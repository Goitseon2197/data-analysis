{
 "cells": [
  {
   "cell_type": "code",
   "execution_count": null,
   "id": "a4ff8c49",
   "metadata": {},
   "outputs": [],
   "source": [
    "import pandas as pd\n",
    "import numpy as np\n",
    "import matplotlib.pyplot as plt \n",
    "import seaborn as sns\n",
    "import sqlite3\n",
    "from sqlite3 import Error"
   ]
  },
  {
   "cell_type": "code",
   "execution_count": null,
   "id": "16e6f94a",
   "metadata": {},
   "outputs": [],
   "source": [
    "import pandas as pd\n",
    "import sqlite3\n",
    "import matplotlib.pyplot as plt\n",
    "import seaborn as sns\n",
    "\n",
    "df1_clean = pd.read_csv(\"../datasets/cleaned_dataset1.csv\")  # Financial Institution Accounts\n",
    "df2_clean = pd.read_csv(\"../datasets/cleaned_dataset2.csv\")  # Mobile Accounts\n",
    "\n",
    "print(\" Datasets loaded successfully for DB Integration.\\n\")\n",
    "print(\"Dataset 1 columns:\", df1_clean.columns.tolist())\n",
    "print(\"Dataset 2 columns:\", df2_clean.columns.tolist())"
   ]
  },
  {
   "cell_type": "code",
   "execution_count": null,
   "id": "514e24ec",
   "metadata": {},
   "outputs": [],
   "source": []
  }
 ],
 "metadata": {
  "language_info": {
   "name": "python"
  }
 },
 "nbformat": 4,
 "nbformat_minor": 5
}
