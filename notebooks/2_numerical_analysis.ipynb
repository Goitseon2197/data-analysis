{
 "cells": [
  {
   "cell_type": "code",
   "execution_count": null,
   "id": "05631faa",
   "metadata": {},
   "outputs": [
    {
     "name": "stdout",
     "output_type": "stream",
     "text": [
      "Dataset 1 shape: (35, 1)\n",
      "Dataset 2 shape: (46, 1)\n"
     ]
    }
   ],
   "source": [
    "import pandas as pd\n",
    "import numpy as np\n",
    "\n",
    "\n",
    "df1_clean = pd.read_csv(\"../datasets/cleaned_dataset1.csv\")\n",
    "df2_clean = pd.read_csv(\"../datasets/cleaned_dataset2.csv\")\n",
    "\n",
    "\n",
    "arr1 = df1_clean[\"OBS_VALUE\"].to_numpy()\n",
    "arr2 = df2_clean[\"OBS_VALUE\"].to_numpy()\n",
    "\n",
    "\n",
    "arr1_reshaped = arr1.reshape(-1, 1)\n",
    "arr2_reshaped = arr2.reshape(-1, 1)\n",
    "\n",
    "print(\"Dataset 1 shape:\", arr1_reshaped.shape)\n",
    "print(\"Dataset 2 shape:\", arr2_reshaped.shape)\n"
   ]
  },
  {
   "cell_type": "code",
   "execution_count": null,
   "id": "51910dcf",
   "metadata": {},
   "outputs": [
    {
     "name": "stdout",
     "output_type": "stream",
     "text": [
      "Datasets loaded successfully.\n",
      "\n",
      "Dataset 1 shape: (35, 7)\n",
      "Dataset 2 shape: (46, 7)\n",
      "\n",
      "=== Numerical Analysis Section ===\n",
      "\n",
      "Array shapes after reshaping:\n",
      "Dataset 1 shape: (35, 1)\n",
      "Dataset 2 shape: (46, 1)\n",
      "\n",
      "Dataset 1 (Financial Institution Accounts) statistics:\n",
      "Mean: 18.49\n",
      "Median: 17.06\n",
      "Standard Deviation: 8.95\n",
      "\n",
      "Dataset 2 (Mobile Accounts) statistics:\n",
      "Mean: 24.72\n",
      "Median: 22.9\n",
      "Standard Deviation: 10.76\n",
      "\n",
      "Array Operations (first 5 values):\n",
      "Addition: [24.55307608 46.63050172 57.37535624 42.76522373 24.20145583]\n",
      "Subtraction: [ -4.30328427   8.59680984 -15.75525879 -20.48117961  -5.85777888]\n",
      "Multiplication: [146.08382236 525.12463783 760.92583095 352.34641057 137.84922271]\n",
      "\n",
      "=== Findings ===\n",
      "Financial institution accounts have a higher average than mobile accounts,\n",
      "showing that traditional banking remains more common in South Africa.\n",
      "The standard deviation values reveal how adoption varies across groups.\n",
      "Reshaping arrays prepares the data for further analysis, such as ML tasks.\n",
      "Addition shows combined adoption, subtraction shows the gap,\n",
      "and multiplication is mainly illustrative of interaction effects.\n"
     ]
    }
   ],
   "source": [
    "import pandas as pd\n",
    "import numpy as np\n",
    "\n",
    "\n",
    "df1_clean = pd.read_csv(\"../datasets/cleaned_dataset1.csv\")\n",
    "df2_clean = pd.read_csv(\"../datasets/cleaned_dataset2.csv\")\n",
    "\n",
    "print(\"Datasets loaded successfully.\\n\")\n",
    "print(\"Dataset 1 shape:\", df1_clean.shape)\n",
    "print(\"Dataset 2 shape:\", df2_clean.shape)\n",
    "\n",
    "\n",
    "print(\"\\n=== Numerical Analysis Section ===\")\n",
    "\n",
    "\n",
    "arr1 = df1_clean[\"OBS_VALUE\"].to_numpy()\n",
    "arr2 = df2_clean[\"OBS_VALUE\"].to_numpy()\n",
    "\n",
    "\n",
    "arr1_reshaped = arr1.reshape(-1, 1)\n",
    "arr2_reshaped = arr2.reshape(-1, 1)\n",
    "\n",
    "print(\"\\nArray shapes after reshaping:\")\n",
    "print(\"Dataset 1 shape:\", arr1_reshaped.shape)\n",
    "print(\"Dataset 2 shape:\", arr2_reshaped.shape)\n",
    "\n",
    "\n",
    "print(\"\\nDataset 1 (Financial Institution Accounts) statistics:\")\n",
    "print(\"Mean:\", np.mean(arr1).round(2))\n",
    "print(\"Median:\", np.median(arr1).round(2))\n",
    "print(\"Standard Deviation:\", np.std(arr1).round(2))\n",
    "\n",
    "print(\"\\nDataset 2 (Mobile Accounts) statistics:\")\n",
    "print(\"Mean:\", np.mean(arr2).round(2))\n",
    "print(\"Median:\", np.median(arr2).round(2))\n",
    "print(\"Standard Deviation:\", np.std(arr2).round(2))\n",
    "\n",
    "\n",
    "min_len = min(len(arr1), len(arr2))\n",
    "added = arr1[:min_len] + arr2[:min_len]\n",
    "subtracted = arr1[:min_len] - arr2[:min_len]\n",
    "multiplied = arr1[:min_len] * arr2[:min_len]\n",
    "\n",
    "print(\"\\nArray Operations (first 5 values):\")\n",
    "print(\"Addition:\", added[:5])\n",
    "print(\"Subtraction:\", subtracted[:5])\n",
    "print(\"Multiplication:\", multiplied[:5])\n",
    "\n",
    "\n",
    "print(\"\\n=== Findings ===\")\n",
    "print(\"Financial institution accounts have a higher average than mobile accounts,\")\n",
    "print(\"showing that traditional banking remains more common in South Africa.\")\n",
    "print(\"The standard deviation values reveal how adoption varies across groups.\")\n",
    "print(\"Reshaping arrays prepares the data for further analysis, such as ML tasks.\")\n",
    "print(\"Addition shows combined adoption, subtraction shows the gap,\")\n",
    "print(\"and multiplication is mainly illustrative of interaction effects.\")\n"
   ]
  }
 ],
 "metadata": {
  "kernelspec": {
   "display_name": "Python 3",
   "language": "python",
   "name": "python3"
  },
  "language_info": {
   "codemirror_mode": {
    "name": "ipython",
    "version": 3
   },
   "file_extension": ".py",
   "mimetype": "text/x-python",
   "name": "python",
   "nbconvert_exporter": "python",
   "pygments_lexer": "ipython3",
   "version": "3.12.1"
  }
 },
 "nbformat": 4,
 "nbformat_minor": 5
}
